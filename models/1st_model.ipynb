{
 "cells": [
  {
   "cell_type": "markdown",
   "metadata": {},
   "source": [
    "<br>\n",
    "<img src=\"../static/logo.jpg\" alt=\"Team Blue\" style=\"width: 500px;\"/>\n",
    "\n",
    "# Image Classification - Deep Learning with Tensorflow\n",
    "---"
   ]
  },
  {
   "cell_type": "code",
   "execution_count": 2,
   "metadata": {},
   "outputs": [],
   "source": [
    "#Importing dataset with all pictures (as arrays) from Keras\n",
    "from keras.datasets import cifar10\n",
    "(X_train, y_train), (X_test, y_test) = cifar10.load_data()"
   ]
  },
  {
   "cell_type": "markdown",
   "metadata": {},
   "source": [
    "### Checking shapes"
   ]
  },
  {
   "cell_type": "code",
   "execution_count": 3,
   "metadata": {},
   "outputs": [
    {
     "name": "stdout",
     "output_type": "stream",
     "text": [
      "X_train shape: (50000, 32, 32, 3)\n",
      "y_train shape: (50000, 1)\n",
      "X_test shape: (10000, 32, 32, 3)\n",
      "y_test shape: (10000, 1)\n"
     ]
    }
   ],
   "source": [
    "#Looking at the shapes X and y for both the training and the test set.\n",
    "print(f\"X_train shape: {X_train.shape}\")\n",
    "print(f\"y_train shape: {y_train.shape}\")\n",
    "print(f\"X_test shape: {X_test.shape}\")\n",
    "print(f\"y_test shape: {y_test.shape}\")"
   ]
  },
  {
   "cell_type": "markdown",
   "metadata": {},
   "source": [
    "#### X_train: 50000 images/rows, images size= 32x32px , 3=RGB\n",
    "#### y_train: 50000 rows and one column with the corresponding class to X_train\n",
    "#### X_test: 10000 images/rows, images size= 32x32px , 3=RGB\n",
    "#### y_train: 50000 rows and one column with the corresponding class to X_test"
   ]
  },
  {
   "cell_type": "code",
   "execution_count": 4,
   "metadata": {},
   "outputs": [
    {
     "name": "stdout",
     "output_type": "stream",
     "text": [
      "Label nr = [9]\n"
     ]
    },
    {
     "data": {
      "image/png": "[encoded data removed]",
      "text/plain": [
       "<Figure size 432x288 with 1 Axes>"
      ]
     },
     "metadata": {
      "needs_background": "light"
     },
     "output_type": "display_data"
    }
   ],
   "source": [
    "#Verifying one image from X_train with the corresponding class/label from y_train\n",
    "import matplotlib.pyplot as plt\n",
    "label = 1\n",
    "img = plt.imshow(X_train[label])\n",
    "print(f\"Label nr = {y_train[label]}\")"
   ]
  },
  {
   "cell_type": "markdown",
   "metadata": {},
   "source": [
    "<h3>Label numbers</h3>\n",
    "\n",
    "<table style=\"float: left;\"> \n",
    "<tr>\n",
    "    <th scope=\"row\">Airplane</th><td>0</td>        \n",
    "</tr>   \n",
    "<tr>\n",
    "    <th scope=\"row\">Car</th><td>1</td>        \n",
    "</tr>  \n",
    "<tr>\n",
    "   <th scope=\"row\">Bird</th><td>2</td>         \n",
    "</tr>\n",
    "<tr>\n",
    "   <th scope=\"row\">Cat</th><td>3</td>         \n",
    "</tr>\n",
    "<tr>\n",
    "   <th scope=\"row\">Deer</th><td>4</td>         \n",
    "</tr>\n",
    "<tr>\n",
    "   <th scope=\"row\">Dog</th><td>5</td>         \n",
    "</tr>\n",
    "<tr>\n",
    "   <th scope=\"row\">Frog</th><td>6</td>         \n",
    "</tr>\n",
    "<tr>\n",
    "   <th scope=\"row\">Horse</th><td>7</td>         \n",
    "</tr>\n",
    "<tr>\n",
    "   <th scope=\"row\">Ship</th><td>8</td>         \n",
    "</tr>\n",
    "<tr>\n",
    "   <th scope=\"row\">Truck</th><td>9</td>         \n",
    "</tr>    "
   ]
  },
  {
   "cell_type": "code",
   "execution_count": 5,
   "metadata": {},
   "outputs": [
    {
     "name": "stdout",
     "output_type": "stream",
     "text": [
      "Before one-hot encoding\n"
     ]
    },
    {
     "data": {
      "text/plain": [
       "array([[6],\n",
       "       [9],\n",
       "       [9],\n",
       "       [4],\n",
       "       [1],\n",
       "       [1],\n",
       "       [2],\n",
       "       [7],\n",
       "       [8],\n",
       "       [3]], dtype=uint8)"
      ]
     },
     "execution_count": 5,
     "metadata": {},
     "output_type": "execute_result"
    }
   ],
   "source": [
    "#Converting/one-hot encoding y_train and y_test from 1 column with labels 0-9\n",
    "#\n",
    "import keras\n",
    "y_train_one_hot = keras.utils.to_categorical(y_train, 10)\n",
    "y_test_one_hot = keras.utils.to_categorical(y_test, 10)\n",
    "#Printing y_train before one-hot encoding\n",
    "print('Before one-hot encoding')\n",
    "y_train[:10]"
   ]
  },
  {
   "cell_type": "code",
   "execution_count": 6,
   "metadata": {},
   "outputs": [
    {
     "name": "stdout",
     "output_type": "stream",
     "text": [
      "After one-hot encoding\n"
     ]
    },
    {
     "data": {
      "text/plain": [
       "array([[0., 0., 0., 0., 0., 0., 1., 0., 0., 0.],\n",
       "       [0., 0., 0., 0., 0., 0., 0., 0., 0., 1.],\n",
       "       [0., 0., 0., 0., 0., 0., 0., 0., 0., 1.],\n",
       "       [0., 0., 0., 0., 1., 0., 0., 0., 0., 0.],\n",
       "       [0., 1., 0., 0., 0., 0., 0., 0., 0., 0.],\n",
       "       [0., 1., 0., 0., 0., 0., 0., 0., 0., 0.],\n",
       "       [0., 0., 1., 0., 0., 0., 0., 0., 0., 0.],\n",
       "       [0., 0., 0., 0., 0., 0., 0., 1., 0., 0.],\n",
       "       [0., 0., 0., 0., 0., 0., 0., 0., 1., 0.],\n",
       "       [0., 0., 0., 1., 0., 0., 0., 0., 0., 0.]], dtype=float32)"
      ]
     },
     "execution_count": 6,
     "metadata": {},
     "output_type": "execute_result"
    }
   ],
   "source": [
    "#Printing y_train after one-hot encoding (now called y_train_one_hot)\n",
    "#Every label now has its own column with value 0 or 1.\n",
    "#All columns/labels will be 0 except for one that will have the value 1.\n",
    "#We can see here that the first row has nr 1 on index position 6\n",
    "#This means that the first row/image should be a Frog.\n",
    "print('After one-hot encoding')\n",
    "y_train_one_hot[:10]"
   ]
  },
  {
   "cell_type": "code",
   "execution_count": 7,
   "metadata": {},
   "outputs": [],
   "source": [
    "#Converting X from int to float and then divide by 255.\n",
    "#This is to convert the RGB range from 0-255 to range 0-1.\n",
    "#ex. 100=0.3921, 200=0.7843, 0=0, 255=1.0  etc. \n",
    "X_train = X_train.astype('float32')\n",
    "X_test = X_test.astype('float32')\n",
    "X_train = X_train / 255\n",
    "X_test = X_test / 255"
   ]
  },
  {
   "cell_type": "code",
   "execution_count": 8,
   "metadata": {},
   "outputs": [
    {
     "data": {
      "text/plain": [
       "array([0.6039216 , 0.69411767, 0.73333335], dtype=float32)"
      ]
     },
     "execution_count": 8,
     "metadata": {},
     "output_type": "execute_result"
    }
   ],
   "source": [
    "#Printing the values of the first pixel in the second image (the truck from earlier) \n",
    "#to see the converted RGB values\n",
    "X_train[1][0][0]"
   ]
  },
  {
   "cell_type": "code",
   "execution_count": 10,
   "metadata": {},
   "outputs": [],
   "source": [
    "from keras.models import Sequential\n",
    "from keras.layers import Dense, Dropout, Flatten, Conv2D, MaxPooling2D"
   ]
  },
  {
   "cell_type": "code",
   "execution_count": 11,
   "metadata": {},
   "outputs": [],
   "source": [
    "#Creating an empty instance of Sequential\n",
    "model = Sequential()"
   ]
  },
  {
   "cell_type": "code",
   "execution_count": 13,
   "metadata": {},
   "outputs": [],
   "source": [
    "#Adding Conv2D layer with 32 outputs/neurons and a 3x3 filter/kernel.\n",
    "#We also define the input shape of the pictures, 32x32x3  (32x32=image resolution, 3 = RGB).\n",
    "#Padding=\"same\" to get a one pixel thick frame around each 32x32 shape.\n",
    "#This way the filter will reach the side pixels and the output will be the\n",
    "#same size/shape as the input (32x32). \n",
    "#Without this padding the output would be 30x30. (a loss of one pixel on each side of the 32x32 shape)\n",
    "#Stride will be 1 as this is the default. This means the filter/kernel will step 1 pixel at a time to the right.\n",
    "model.add(Conv2D(32, (3, 3), activation='relu', padding='same', input_shape=(32,32,3)))"
   ]
  },
  {
   "cell_type": "code",
   "execution_count": 14,
   "metadata": {},
   "outputs": [],
   "source": [
    "#Adding another Conv2D layer. (Input shape is only necessary on the first layer)\n",
    "model.add(Conv2D(32, (3, 3), activation='relu', padding='same'))"
   ]
  },
  {
   "cell_type": "code",
   "execution_count": 15,
   "metadata": {},
   "outputs": [],
   "source": [
    "#Adding MaxPooling2D layer with pool size 2x2.\n",
    "#Default stride is pool size so it will be 2.\n",
    "#This means that it will step 2 pixels to the right so the pool\n",
    "#will never overlap itself.\n",
    "#Since each pool will select the highest value out of the 2x2 pool, \n",
    "#the ouput shape will be half the input shape (16x16)\n",
    "model.add(MaxPooling2D(pool_size=(2, 2)))"
   ]
  },
  {
   "cell_type": "code",
   "execution_count": 16,
   "metadata": {},
   "outputs": [],
   "source": [
    "#Adding Dropout layer.\n",
    "#(randomly setting 25% of outgoing neurons to 0)\n",
    "#This a technique to prevent overfitting.\n",
    "model.add(Dropout(0.25))"
   ]
  },
  {
   "cell_type": "code",
   "execution_count": 17,
   "metadata": {},
   "outputs": [],
   "source": [
    "#Adding another Conv2D layer. This time with 64 outputs/neruons.\n",
    "model.add(Conv2D(64, (3, 3), activation='relu', padding='same'))"
   ]
  },
  {
   "cell_type": "code",
   "execution_count": 18,
   "metadata": {},
   "outputs": [],
   "source": [
    "#One more lyaer of Conv2D\n",
    "model.add(Conv2D(64, (3, 3), activation='relu', padding='same'))"
   ]
  },
  {
   "cell_type": "code",
   "execution_count": null,
   "metadata": {},
   "outputs": [],
   "source": [
    "#Another MaxPooling layer with the same pool size.\n",
    "model.add(MaxPooling2D(pool_size=(2, 2)))"
   ]
  },
  {
   "cell_type": "code",
   "execution_count": 70,
   "metadata": {},
   "outputs": [],
   "source": [
    "#Another Dropout layer of 25%\n",
    "model.add(Dropout(0.25))"
   ]
  },
  {
   "cell_type": "code",
   "execution_count": 71,
   "metadata": {},
   "outputs": [],
   "source": [
    "#Adding a Flatten layer to make the shape flat (one row only)\n",
    "model.add(Flatten())"
   ]
  },
  {
   "cell_type": "code",
   "execution_count": 72,
   "metadata": {},
   "outputs": [],
   "source": [
    "#Adding Dense (fully connected) layer with 512 neurons.\n",
    "model.add(Dense(512, activation='relu'))"
   ]
  },
  {
   "cell_type": "code",
   "execution_count": 73,
   "metadata": {},
   "outputs": [],
   "source": [
    "#Adding another Dropout layer. This time 50%\n",
    "model.add(Dropout(0.5))"
   ]
  },
  {
   "cell_type": "code",
   "execution_count": 74,
   "metadata": {},
   "outputs": [],
   "source": [
    "#Last is a Dense (fully connected) layer with 10 neurons (same as the number of classes/labels that we have)\n",
    "#Activation function is set to softmax to get probabilities outputs.\n",
    "#All the 10 probabilities values will sum up to 1. (100%)\n",
    "model.add(Dense(10, activation='softmax'))"
   ]
  },
  {
   "cell_type": "code",
   "execution_count": 75,
   "metadata": {},
   "outputs": [
    {
     "name": "stdout",
     "output_type": "stream",
     "text": [
      "Model: \"sequential\"\n",
      "_________________________________________________________________\n",
      "Layer (type)                 Output Shape              Param #   \n",
      "=================================================================\n",
      "conv2d (Conv2D)              (None, 32, 32, 32)        896       \n",
      "_________________________________________________________________\n",
      "conv2d_1 (Conv2D)            (None, 32, 32, 32)        9248      \n",
      "_________________________________________________________________\n",
      "max_pooling2d (MaxPooling2D) (None, 16, 16, 32)        0         \n",
      "_________________________________________________________________\n",
      "conv2d_2 (Conv2D)            (None, 16, 16, 32)        9248      \n",
      "_________________________________________________________________\n",
      "dropout (Dropout)            (None, 16, 16, 32)        0         \n",
      "_________________________________________________________________\n",
      "conv2d_3 (Conv2D)            (None, 16, 16, 64)        18496     \n",
      "_________________________________________________________________\n",
      "conv2d_4 (Conv2D)            (None, 16, 16, 64)        36928     \n",
      "_________________________________________________________________\n",
      "max_pooling2d_1 (MaxPooling2 (None, 8, 8, 64)          0         \n",
      "_________________________________________________________________\n",
      "dropout_1 (Dropout)          (None, 8, 8, 64)          0         \n",
      "_________________________________________________________________\n",
      "flatten (Flatten)            (None, 4096)              0         \n",
      "_________________________________________________________________\n",
      "dense (Dense)                (None, 512)               2097664   \n",
      "_________________________________________________________________\n",
      "dropout_2 (Dropout)          (None, 512)               0         \n",
      "_________________________________________________________________\n",
      "dense_1 (Dense)              (None, 10)                5130      \n",
      "=================================================================\n",
      "Total params: 2,177,610\n",
      "Trainable params: 2,177,610\n",
      "Non-trainable params: 0\n",
      "_________________________________________________________________\n"
     ]
    }
   ],
   "source": [
    "#Printing a summary of all the added layers.\n",
    "model.summary()"
   ]
  },
  {
   "cell_type": "code",
   "execution_count": 76,
   "metadata": {},
   "outputs": [],
   "source": [
    "#Compiling the model. Using loss function Categorical Crossentropy\n",
    "#because we have a classification of several classes.\n",
    "model.compile(loss='categorical_crossentropy',\n",
    "              optimizer='adam',\n",
    "              metrics=['accuracy'])"
   ]
  },
  {
   "cell_type": "code",
   "execution_count": 78,
   "metadata": {},
   "outputs": [
    {
     "name": "stdout",
     "output_type": "stream",
     "text": [
      "Epoch 1/20\n",
      "1250/1250 [==============================] - 66s 53ms/step - loss: 1.6296 - accuracy: 0.3967 - val_loss: 1.2534 - val_accuracy: 0.5440\n",
      "Epoch 2/20\n",
      "1250/1250 [==============================] - 67s 54ms/step - loss: 1.2134 - accuracy: 0.5656 - val_loss: 1.0173 - val_accuracy: 0.6345\n",
      "Epoch 3/20\n",
      "1250/1250 [==============================] - 67s 54ms/step - loss: 1.0370 - accuracy: 0.6326 - val_loss: 0.9544 - val_accuracy: 0.6629\n",
      "Epoch 4/20\n",
      "1250/1250 [==============================] - 66s 53ms/step - loss: 0.9284 - accuracy: 0.6725 - val_loss: 0.8425 - val_accuracy: 0.7048\n",
      "Epoch 5/20\n",
      "1250/1250 [==============================] - 66s 53ms/step - loss: 0.8488 - accuracy: 0.7001 - val_loss: 0.8302 - val_accuracy: 0.7145\n",
      "Epoch 6/20\n",
      "1250/1250 [==============================] - 67s 54ms/step - loss: 0.7910 - accuracy: 0.7227 - val_loss: 0.7868 - val_accuracy: 0.7264\n",
      "Epoch 7/20\n",
      "1250/1250 [==============================] - 68s 54ms/step - loss: 0.7424 - accuracy: 0.7394 - val_loss: 0.7717 - val_accuracy: 0.7320\n",
      "Epoch 8/20\n",
      "1250/1250 [==============================] - 66s 53ms/step - loss: 0.7029 - accuracy: 0.7514 - val_loss: 0.7259 - val_accuracy: 0.7478\n",
      "Epoch 9/20\n",
      "1250/1250 [==============================] - 67s 53ms/step - loss: 0.6716 - accuracy: 0.7609 - val_loss: 0.7033 - val_accuracy: 0.7576\n",
      "Epoch 10/20\n",
      "1250/1250 [==============================] - 66s 53ms/step - loss: 0.6369 - accuracy: 0.7754 - val_loss: 0.6874 - val_accuracy: 0.7668\n",
      "Epoch 11/20\n",
      "1250/1250 [==============================] - 66s 53ms/step - loss: 0.6142 - accuracy: 0.7829 - val_loss: 0.7301 - val_accuracy: 0.7506\n",
      "Epoch 12/20\n",
      "1250/1250 [==============================] - 66s 53ms/step - loss: 0.5832 - accuracy: 0.7930 - val_loss: 0.6702 - val_accuracy: 0.7755\n",
      "Epoch 13/20\n",
      "1250/1250 [==============================] - 67s 53ms/step - loss: 0.5611 - accuracy: 0.8011 - val_loss: 0.6831 - val_accuracy: 0.7734\n",
      "Epoch 14/20\n",
      "1250/1250 [==============================] - 66s 53ms/step - loss: 0.5497 - accuracy: 0.8047 - val_loss: 0.6583 - val_accuracy: 0.7799\n",
      "Epoch 15/20\n",
      "1250/1250 [==============================] - 66s 53ms/step - loss: 0.5344 - accuracy: 0.8106 - val_loss: 0.6864 - val_accuracy: 0.7738\n",
      "Epoch 16/20\n",
      "1250/1250 [==============================] - 66s 53ms/step - loss: 0.5050 - accuracy: 0.8182 - val_loss: 0.6663 - val_accuracy: 0.7778\n",
      "Epoch 17/20\n",
      "1250/1250 [==============================] - 66s 53ms/step - loss: 0.4975 - accuracy: 0.8252 - val_loss: 0.6885 - val_accuracy: 0.7741\n",
      "Epoch 18/20\n",
      "1250/1250 [==============================] - 66s 53ms/step - loss: 0.4760 - accuracy: 0.8306 - val_loss: 0.6922 - val_accuracy: 0.7734\n",
      "Epoch 19/20\n",
      "1250/1250 [==============================] - 67s 53ms/step - loss: 0.4727 - accuracy: 0.8333 - val_loss: 0.6651 - val_accuracy: 0.7806\n",
      "Epoch 20/20\n",
      "1250/1250 [==============================] - 67s 53ms/step - loss: 0.4556 - accuracy: 0.8364 - val_loss: 0.7020 - val_accuracy: 0.7699\n"
     ]
    }
   ],
   "source": [
    "#Training our model.\n",
    "#We use 0.2 validation split \n",
    "#(20% of X_train and y_train is used for validation/test)\n",
    "#(80% is used for training)\n",
    "hist = model.fit(X_train, y_train_one_hot, \n",
    "           batch_size=32, epochs=20, \n",
    "           validation_split=0.2)"
   ]
  },
  {
   "cell_type": "code",
   "execution_count": 79,
   "metadata": {},
   "outputs": [
    {
     "data": {
      "image/png": "[encoded data removed]",
      "text/plain": [
       "<Figure size 432x288 with 1 Axes>"
      ]
     },
     "metadata": {
      "needs_background": "light"
     },
     "output_type": "display_data"
    }
   ],
   "source": [
    "#Visualizing the loss from training \n",
    "#togheter with the loss from the validation\n",
    "#for each epoch.\n",
    "plt.plot(hist.history['loss'])\n",
    "plt.plot(hist.history['val_loss'])\n",
    "plt.title('Model loss')\n",
    "plt.ylabel('Loss')\n",
    "plt.xlabel('Epoch')\n",
    "plt.legend(['Train', 'Val'], loc='upper right')\n",
    "plt.show()"
   ]
  },
  {
   "cell_type": "code",
   "execution_count": 81,
   "metadata": {},
   "outputs": [
    {
     "name": "stdout",
     "output_type": "stream",
     "text": [
      "313/313 [==============================] - 4s 13ms/step - loss: 0.7380 - accuracy: 0.7649\n"
     ]
    },
    {
     "data": {
      "text/plain": [
       "0.7649000287055969"
      ]
     },
     "execution_count": 81,
     "metadata": {},
     "output_type": "execute_result"
    }
   ],
   "source": [
    "#Evaluating the model with out test data.\n",
    "#The last epoch from our training had val_accuracy 0.7699\n",
    "#The evaluation on unseen test images has 0.7649\n",
    "#Looks like the model has a stable accuracy.\n",
    "model.evaluate(X_test, y_test_one_hot)[1]"
   ]
  },
  {
   "cell_type": "code",
   "execution_count": 87,
   "metadata": {},
   "outputs": [
    {
     "data": {
      "image/png": "[encoded data removed]",
      "text/plain": [
       "<Figure size 432x288 with 1 Axes>"
      ]
     },
     "metadata": {
      "needs_background": "light"
     },
     "output_type": "display_data"
    }
   ],
   "source": [
    "#Visualizing the accuracy from training \n",
    "#togheter with the accuracy from the validation\n",
    "#for each epoch.\n",
    "plt.plot(hist.history['accuracy'])\n",
    "plt.plot(hist.history['val_accuracy'])\n",
    "plt.title('Model accuracy')\n",
    "plt.ylabel('Accuracy')\n",
    "plt.xlabel('Epoch')\n",
    "plt.legend(['Train', 'Val'], loc='lower right')\n",
    "plt.show()"
   ]
  },
  {
   "cell_type": "code",
   "execution_count": 88,
   "metadata": {},
   "outputs": [],
   "source": [
    "#Saving the trained model in the current directory\n",
    "model.save('blue_img_predict_model.h5')"
   ]
  },
  {
   "cell_type": "code",
   "execution_count": 89,
   "metadata": {},
   "outputs": [],
   "source": [
    "#Importing a previously saved model.\n",
    "#from keras.models import load_model\n",
    "#model = load_model('blue_img_predict_model.h5')"
   ]
  },
  {
   "cell_type": "code",
   "execution_count": 373,
   "metadata": {},
   "outputs": [],
   "source": [
    "#Loading an image to test the model \"manually\".\n",
    "my_image = plt.imread(\"ship.png\")"
   ]
  },
  {
   "cell_type": "code",
   "execution_count": 374,
   "metadata": {},
   "outputs": [],
   "source": [
    "#Resizing the image to match the image size of the training set.\n",
    "from skimage.transform import resize\n",
    "my_image_resized = resize(my_image, (32,32,3))"
   ]
  },
  {
   "cell_type": "code",
   "execution_count": 375,
   "metadata": {},
   "outputs": [
    {
     "data": {
      "text/plain": [
       "<matplotlib.image.AxesImage at 0x262baab2460>"
      ]
     },
     "execution_count": 375,
     "metadata": {},
     "output_type": "execute_result"
    },
    {
     "data": {
      "image/png": "[encoded data removed]",
      "text/plain": [
       "<Figure size 432x288 with 1 Axes>"
      ]
     },
     "metadata": {
      "needs_background": "light"
     },
     "output_type": "display_data"
    }
   ],
   "source": [
    "#Shows the resized image (resized to 32x32)\n",
    "plt.imshow(my_image_resized)"
   ]
  },
  {
   "cell_type": "code",
   "execution_count": 376,
   "metadata": {},
   "outputs": [],
   "source": [
    "#Predicting the class/label of the resized image using our model.\n",
    "import numpy as np\n",
    "probabilities = model.predict(np.array( [my_image_resized,] ))"
   ]
  },
  {
   "cell_type": "code",
   "execution_count": 377,
   "metadata": {},
   "outputs": [
    {
     "data": {
      "text/plain": [
       "array([[4.3498552e-05, 1.8011310e-08, 2.0673468e-05, 8.6178648e-07,\n",
       "        2.8446344e-08, 9.5970769e-09, 2.1330724e-04, 1.0913409e-09,\n",
       "        9.9972147e-01, 1.1881708e-07]], dtype=float32)"
      ]
     },
     "execution_count": 377,
     "metadata": {},
     "output_type": "execute_result"
    }
   ],
   "source": [
    "#Printing the results from the prediction.\n",
    "#Every column represents a class/label and the highest\n",
    "#value is the class/label that the model has predicted as \"most likely\".\n",
    "probabilities"
   ]
  },
  {
   "cell_type": "code",
   "execution_count": 378,
   "metadata": {},
   "outputs": [
    {
     "name": "stdout",
     "output_type": "stream",
     "text": [
      "Most likely class: ship -- Probability: 0.99972147\n",
      "Second most likely class: frog -- Probability: 0.00021330724\n",
      "Third most likely class: airplane -- Probability: 4.3498552e-05\n",
      "Fourth most likely class: bird -- Probability: 2.0673468e-05\n",
      "Fifth most likely class: cat -- Probability: 8.617865e-07\n"
     ]
    }
   ],
   "source": [
    "#Prints the top 5 most likely classes/labels.\n",
    "number_to_class = ['airplane', 'automobile', 'bird', 'cat', 'deer', 'dog', 'frog', 'horse', 'ship', 'truck']\n",
    "index = np.argsort(probabilities[0,:])\n",
    "print(\"Most likely class:\", number_to_class[index[9]], \"-- Probability:\", probabilities[0,index[9]])\n",
    "print(\"Second most likely class:\", number_to_class[index[8]], \"-- Probability:\", probabilities[0,index[8]])\n",
    "print(\"Third most likely class:\", number_to_class[index[7]], \"-- Probability:\", probabilities[0,index[7]])\n",
    "print(\"Fourth most likely class:\", number_to_class[index[6]], \"-- Probability:\", probabilities[0,index[6]])\n",
    "print(\"Fifth most likely class:\", number_to_class[index[5]], \"-- Probability:\", probabilities[0,index[5]])"
   ]
  }
 ],
 "metadata": {
  "kernelspec": {
   "display_name": "Python 3",
   "language": "python",
   "name": "python3"
  },
  "language_info": {
   "codemirror_mode": {
    "name": "ipython",
    "version": 3
   },
   "file_extension": ".py",
   "mimetype": "text/x-python",
   "name": "python",
   "nbconvert_exporter": "python",
   "pygments_lexer": "ipython3",
   "version": "3.8.8"
  }
 },
 "nbformat": 4,
 "nbformat_minor": 4
}
